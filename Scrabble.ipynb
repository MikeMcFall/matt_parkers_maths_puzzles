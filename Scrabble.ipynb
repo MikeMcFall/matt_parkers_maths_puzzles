{
 "cells": [
  {
   "cell_type": "code",
   "execution_count": 1,
   "metadata": {},
   "outputs": [
    {
     "data": {
      "text/plain": [
       "138"
      ]
     },
     "execution_count": 1,
     "metadata": {},
     "output_type": "execute_result"
    }
   ],
   "source": [
    "points = [1,3,3,2,1,4,2,4,1,8,5,1,3,1,1,3,10,1,1,1,1,4,4,8,4,10]\n",
    "tiles = [9,2,2,4,12,2,3,2,9,1,1,4,2,6,8,2,1,6,4,6,4,2,2,1,2,1]\n",
    "alphabet = ['a','b','c','d','e','f','g','h','i','j','k','l','m',\n",
    "            'n','o','p','q','r','s','t','u','v','w','x','y','z']\n",
    "scoring = dict(zip(alphabet, points))\n",
    "\n",
    "alpha = []\n",
    "for letter, num in zip(alphabet, tiles) :\n",
    "    alpha.extend(letter * num)\n",
    "    \n",
    "#These 4 letters must be used to get the total to 46\n",
    "for rem in ('j','q','x','z') :\n",
    "    alpha.remove(rem)\n",
    "    \n",
    "combos = []\n",
    "for x in alpha :\n",
    "    x_score = scoring[x]\n",
    "    beta = alpha.copy()\n",
    "    beta.remove(x)\n",
    "    for y in beta :\n",
    "        y_score = scoring[y]\n",
    "        beta.remove(y)\n",
    "        for z in beta :\n",
    "            z_scoring = scoring[z]\n",
    "            total = x_score + y_score + z_scoring\n",
    "            if (sorted([x,y,z]) not in combos) & (total == 10) :\n",
    "                combos.append(sorted([x,y,z]))\n",
    "    alpha.remove(x)\n",
    "len(combos)"
   ]
  }
 ],
 "metadata": {
  "kernelspec": {
   "display_name": "Python 3",
   "language": "python",
   "name": "python3"
  },
  "language_info": {
   "codemirror_mode": {
    "name": "ipython",
    "version": 3
   },
   "file_extension": ".py",
   "mimetype": "text/x-python",
   "name": "python",
   "nbconvert_exporter": "python",
   "pygments_lexer": "ipython3",
   "version": "3.7.6"
  }
 },
 "nbformat": 4,
 "nbformat_minor": 4
}
